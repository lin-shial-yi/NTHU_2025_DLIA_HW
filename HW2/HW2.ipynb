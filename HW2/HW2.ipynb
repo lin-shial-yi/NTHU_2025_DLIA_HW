{
  "cells": [
    {
      "cell_type": "markdown",
      "id": "0",
      "metadata": {
        "id": "0"
      },
      "source": [
        "<div align=\"center\">\n",
        "\n",
        "###### Lab 2\n",
        "\n",
        "# National Tsing Hua University\n",
        "\n",
        "#### Spring 2025\n",
        "\n",
        "#### 11320IEEM 513600\n",
        "\n",
        "#### Deep Learning and Industrial Applications\n",
        "    \n",
        "## Lab 2: Predicting Heart Disease with Deep Learning\n",
        "\n",
        "</div>"
      ]
    },
    {
      "cell_type": "markdown",
      "id": "1",
      "metadata": {
        "id": "1",
        "tags": []
      },
      "source": [
        "### Introduction\n",
        "\n",
        "In the realm of healthcare, early detection and accurate prediction of diseases play a crucial role in patient care and management. Heart disease remains one of the leading causes of mortality worldwide, making the development of effective diagnostic tools essential. This lab leverages deep learning to predict the presence of heart disease in patients using a subset of 14 key attributes from the Cleveland Heart Disease Database. The objective is to explore and apply deep learning techniques to distinguish between the presence and absence of heart disease based on clinical parameters.\n",
        "\n",
        "Throughout this lab, you'll engage with the following key activities:\n",
        "- Use [Pandas](https://pandas.pydata.org) to process the CSV files.\n",
        "- Use [PyTorch](https://pytorch.org) to build an Artificial Neural Network (ANN) to fit the dataset.\n",
        "- Evaluate the performance of the trained model to understand its accuracy.\n",
        "\n",
        "### Attribute Information\n",
        "\n",
        "1. age: Age of the patient in years\n",
        "2. sex: (Male/Female)\n",
        "3. cp: Chest pain type (4 types: low, medium, high, and severe)\n",
        "4. trestbps: Resting blood pressure\n",
        "5. chol: Serum cholesterol in mg/dl\n",
        "6. fbs: Fasting blood sugar > 120 mg/dl\n",
        "7. restecg: Resting electrocardiographic results (values 0,1,2)\n",
        "8. thalach: Maximum heart rate achieved\n",
        "9. exang: Exercise induced angina\n",
        "10. oldpeak: Oldpeak = ST depression induced by exercise relative to rest\n",
        "11. slope: The slope of the peak exercise ST segment\n",
        "12. ca: Number of major vessels (0-3) colored by fluoroscopy\n",
        "13. thal: 3 = normal; 6 = fixed defect; 7 = reversible defect\n",
        "14. target: target have disease or not (1=yes, 0=no)\n",
        "\n",
        "### References\n",
        "- [UCI Heart Disease Data](https://www.kaggle.com/datasets/redwankarimsony/heart-disease-data) for the dataset we use in this lab.\n"
      ]
    },
    {
      "cell_type": "markdown",
      "id": "2",
      "metadata": {
        "id": "2"
      },
      "source": [
        "## A. Checking and Preprocessing"
      ]
    },
    {
      "cell_type": "code",
      "execution_count": null,
      "id": "3",
      "metadata": {
        "id": "3"
      },
      "outputs": [],
      "source": [
        "import pandas as pd\n",
        "\n",
        "df = pd.read_csv('heart_dataset_train_all.csv')\n",
        "\n",
        "df = df.dropna()\n",
        "\n",
        "# Mapping 'sex' descriptions to numbers\n",
        "sex_description = {\n",
        "    'Male': 0,\n",
        "    'Female': 1,\n",
        "}\n",
        "df.loc[:, 'sex'] = df['sex'].map(sex_description)\n",
        "\n",
        "# Mapping 'cp' (chest pain) descriptions to numbers\n",
        "pain_description = {\n",
        "    'low': 0,\n",
        "    'medium': 1,\n",
        "    'high': 2,\n",
        "    'severe': 3\n",
        "}\n",
        "df.loc[:, 'cp'] = df['cp'].map(pain_description)\n",
        "\n",
        "df"
      ]
    },
    {
      "cell_type": "markdown",
      "id": "4",
      "metadata": {
        "id": "4"
      },
      "source": [
        "#### Converting the DataFrame to a NumPy Array"
      ]
    },
    {
      "cell_type": "code",
      "execution_count": null,
      "id": "5",
      "metadata": {
        "id": "5"
      },
      "outputs": [],
      "source": [
        "import numpy as np\n",
        "\n",
        "np_data = df.values\n",
        "\n",
        "split_point = int(np_data.shape[0]*0.7)\n",
        "\n",
        "np.random.shuffle(np_data)\n",
        "\n",
        "x_train = np_data[:split_point, :13]\n",
        "y_train = np_data[:split_point, 13]\n",
        "x_val = np_data[split_point:, :13]\n",
        "y_val = np_data[split_point:, 13]\n",
        "\n",
        "x_train = np.array(x_train, dtype=np.float32)\n",
        "y_train = np.array(y_train, dtype=np.int64)\n",
        "x_val = np.array(x_val, dtype=np.float32)\n",
        "y_val = np.array(y_val, dtype=np.int64)\n",
        "\n",
        "import torch\n",
        "from torch.utils.data import DataLoader, TensorDataset\n",
        "\n",
        "# Convert to PyTorch tensors\n",
        "x_train = torch.from_numpy(x_train).float()\n",
        "y_train = torch.from_numpy(y_train).long()\n",
        "\n",
        "x_val = torch.from_numpy(x_val).float()\n",
        "y_val = torch.from_numpy(y_val).long()\n",
        "\n",
        "batch_size = 32\n",
        "\n",
        "# Create datasets\n",
        "train_dataset = TensorDataset(x_train, y_train)\n",
        "val_dataset = TensorDataset(x_val, y_val)\n",
        "\n",
        "# Create dataloaders\n",
        "train_loader = DataLoader(train_dataset, batch_size=batch_size, shuffle=True)\n",
        "val_loader = DataLoader(val_dataset, batch_size=batch_size, shuffle=False)\n",
        "\n",
        "print(f'Number of samples in train and validation are {len(train_loader.dataset)} and {len(val_loader.dataset)}.')"
      ]
    },
    {
      "cell_type": "markdown",
      "id": "6",
      "metadata": {
        "id": "6"
      },
      "source": [
        "## B. Defining Neural Networks\n",
        "\n",
        "In PyTorch, we can use **class** to define our custom neural network architectures by subclassing the `nn.Module` class. This gives our neural network all the functionality it needs to work with PyTorch's other utilities and keeps our implementation organized.\n",
        "\n",
        "- Neural networks are defined by subclassing `nn.Module`.\n",
        "- The layers of the neural network are initialized in the `__init__` method.\n",
        "- The forward pass operations on input data are defined in the `forward` method.\n",
        "\n",
        "It's worth noting that while we only define the forward pass, PyTorch will automatically derive the backward pass for us, which is used during training to update the model's weights.\""
      ]
    },
    {
      "cell_type": "code",
      "execution_count": null,
      "id": "7",
      "metadata": {
        "id": "7"
      },
      "outputs": [],
      "source": [
        "import torch.nn as nn\n",
        "\n",
        "class Model(nn.Module):\n",
        "    def __init__(self):\n",
        "        super().__init__()\n",
        "        self.model = nn.Sequential(\n",
        "            nn.Linear(13, 256),\n",
        "            nn.ReLU(),\n",
        "            nn.Linear(256, 256),\n",
        "            nn.ReLU(),\n",
        "            nn.Linear(256, 2)\n",
        "        ).cuda()\n",
        "\n",
        "    def forward(self, x):\n",
        "        return self.model(x)"
      ]
    },
    {
      "cell_type": "markdown",
      "id": "8",
      "metadata": {
        "id": "8"
      },
      "source": [
        "## C. Training the Neural Network"
      ]
    },
    {
      "cell_type": "code",
      "execution_count": null,
      "id": "9",
      "metadata": {
        "id": "9"
      },
      "outputs": [],
      "source": [
        "# Check your GPU status.\n",
        "!nvidia-smi"
      ]
    },
    {
      "cell_type": "code",
      "execution_count": null,
      "id": "10",
      "metadata": {
        "id": "10"
      },
      "outputs": [],
      "source": [
        "import torch\n",
        "import torch.nn as nn\n",
        "import torch.optim as optim\n",
        "from torch.optim.lr_scheduler import CosineAnnealingLR\n",
        "from torch.utils.data import DataLoader, TensorDataset\n",
        "from tqdm.auto import tqdm\n",
        "import numpy as np\n",
        "import pandas as pd\n",
        "\n",
        "# 1. 讀取 test dataset\n",
        "test_data = np.loadtxt('heart_dataset_test.csv', delimiter=',', skiprows=1)  # 如果有header，記得 skiprows=1\n",
        "x_test = torch.from_numpy(test_data[:, :13]).float()\n",
        "y_test = torch.from_numpy(test_data[:, 13]).long()\n",
        "test_dataset = TensorDataset(x_test, y_test)\n",
        "\n",
        "# 2. 超參數組合\n",
        "learning_rates = [0.01, 0.001, 0.0001]\n",
        "batch_sizes = [32, 64, 128]\n",
        "\n",
        "# 儲存所有實驗結果\n",
        "results = []\n",
        "\n",
        "for lr in learning_rates:\n",
        "    for batch_size in batch_sizes:\n",
        "        print(f'\\n>>> Training with lr={lr}, batch_size={batch_size}')\n",
        "\n",
        "        # 3. 建立 train/val loader（假設你已經有 train_dataset, val_dataset）\n",
        "        train_loader = DataLoader(train_dataset, batch_size=batch_size, shuffle=True)\n",
        "        val_loader = DataLoader(val_dataset, batch_size=batch_size, shuffle=False)\n",
        "        test_loader = DataLoader(test_dataset, batch_size=1, shuffle=False)  # test 固定 batch_size=1\n",
        "\n",
        "        # 4. 初始化模型\n",
        "        model = Model().cuda()\n",
        "        criterion = nn.CrossEntropyLoss()\n",
        "        optimizer = optim.Adam(model.parameters(), lr=lr)\n",
        "        lr_scheduler = CosineAnnealingLR(optimizer, T_max=100, eta_min=0)\n",
        "\n",
        "        epochs = 100\n",
        "        best_val_loss = float('inf')\n",
        "        best_val_acc = -1\n",
        "\n",
        "        # 5. 訓練 + 驗證\n",
        "        for epoch in tqdm(range(epochs)):\n",
        "            model.train()\n",
        "            total_loss = 0.0\n",
        "            train_correct = 0\n",
        "            total_train_samples = 0\n",
        "\n",
        "            for features, labels in train_loader:\n",
        "                features = features.cuda()\n",
        "                labels = labels.cuda()\n",
        "                optimizer.zero_grad()\n",
        "\n",
        "                outputs = model(features)\n",
        "                loss = criterion(outputs, labels)\n",
        "                loss.backward()\n",
        "                optimizer.step()\n",
        "\n",
        "                total_loss += loss.item()\n",
        "                train_predicted = outputs.argmax(-1)\n",
        "                train_correct += (train_predicted == labels).sum().item()\n",
        "                total_train_samples += labels.size(0)\n",
        "\n",
        "            lr_scheduler.step()\n",
        "            avg_train_loss = total_loss / len(train_loader)\n",
        "            train_accuracy = 100. * train_correct / total_train_samples\n",
        "\n",
        "            # Validation\n",
        "            model.eval()\n",
        "            total_val_loss = 0.0\n",
        "            correct = 0\n",
        "            total = 0\n",
        "            with torch.no_grad():\n",
        "                for features, labels in val_loader:\n",
        "                    features = features.cuda()\n",
        "                    labels = labels.cuda()\n",
        "                    outputs = model(features)\n",
        "                    loss = criterion(outputs, labels)\n",
        "                    total_val_loss += loss.item()\n",
        "                    predicted = outputs.argmax(-1)\n",
        "                    correct += (predicted == labels).sum().item()\n",
        "                    total += labels.size(0)\n",
        "            avg_val_loss = total_val_loss / len(val_loader)\n",
        "            val_accuracy = 100. * correct / total\n",
        "\n",
        "            if val_accuracy > best_val_acc:\n",
        "                best_val_acc = val_accuracy\n",
        "                best_model_state = model.state_dict()\n",
        "\n",
        "        # 6. Test\n",
        "        model.load_state_dict(best_model_state)\n",
        "        model.eval()\n",
        "        total_test_loss = 0.0\n",
        "        correct = 0\n",
        "        total = 0\n",
        "        with torch.no_grad():\n",
        "            for features, labels in test_loader:\n",
        "                features = features.cuda()\n",
        "                labels = labels.cuda()\n",
        "                outputs = model(features)\n",
        "                loss = criterion(outputs, labels)\n",
        "                total_test_loss += loss.item()\n",
        "                predicted = outputs.argmax(-1)\n",
        "                correct += (predicted == labels).sum().item()\n",
        "                total += labels.size(0)\n",
        "        avg_test_loss = total_test_loss / len(test_loader)\n",
        "        test_accuracy = 100. * correct / total\n",
        "\n",
        "        # 儲存結果\n",
        "        results.append({\n",
        "            'learning_rate': lr,\n",
        "            'batch_size': batch_size,\n",
        "            'train_loss': avg_train_loss,\n",
        "            'train_acc': train_accuracy,\n",
        "            'val_loss': avg_val_loss,\n",
        "            'val_acc': best_val_acc,\n",
        "            'test_loss': avg_test_loss,\n",
        "            'test_acc': test_accuracy\n",
        "        })\n",
        "\n",
        "# 7. 輸出結果\n",
        "df = pd.DataFrame(results)\n",
        "print(df)"
      ]
    },
    {
      "cell_type": "code",
      "execution_count": null,
      "id": "11",
      "metadata": {
        "id": "11"
      },
      "outputs": [],
      "source": [
        "import matplotlib.pyplot as plt\n",
        "\n",
        "# 設定圖片尺寸\n",
        "plt.figure(figsize=(10, 6))\n",
        "\n",
        "# Loss plot\n",
        "plt.plot(df.index, df['train_loss'], marker='o', label='Train Loss')\n",
        "plt.plot(df.index, df['val_loss'], marker='o', label='Validation Loss')\n",
        "plt.plot(df.index, df['test_loss'], marker='o', label='Test Loss')\n",
        "\n",
        "plt.xticks(df.index, [f\"lr={row['learning_rate']},bs={row['batch_size']}\" for _, row in df.iterrows()], rotation=45)\n",
        "plt.xlabel('Hyperparameter Settings')\n",
        "plt.ylabel('Loss')\n",
        "plt.title('Loss vs Hyperparameter Settings')\n",
        "plt.legend()\n",
        "plt.grid(True)\n",
        "plt.tight_layout()\n",
        "plt.savefig('loss_comparison.png')  # 自動存圖\n",
        "plt.show()\n",
        "\n",
        "# Accuracy plot\n",
        "plt.figure(figsize=(10, 6))\n",
        "plt.plot(df.index, df['train_acc'], marker='o', label='Train Accuracy')\n",
        "plt.plot(df.index, df['val_acc'], marker='o', label='Validation Accuracy')\n",
        "plt.plot(df.index, df['test_acc'], marker='o', label='Test Accuracy')\n",
        "\n",
        "plt.xticks(df.index, [f\"lr={row['learning_rate']},bs={row['batch_size']}\" for _, row in df.iterrows()], rotation=45)\n",
        "plt.xlabel('Hyperparameter Settings')\n",
        "plt.ylabel('Accuracy (%)')\n",
        "plt.title('Accuracy vs Hyperparameter Settings')\n",
        "plt.legend()\n",
        "plt.grid(True)\n",
        "plt.tight_layout()\n",
        "plt.savefig('accuracy_comparison.png')  # 自動存圖\n",
        "plt.show()"
      ]
    },
    {
      "cell_type": "code",
      "execution_count": null,
      "id": "12",
      "metadata": {
        "id": "12"
      },
      "outputs": [],
      "source": [
        "pip install nbstripout"
      ]
    },
    {
      "cell_type": "code",
      "execution_count": null,
      "id": "13",
      "metadata": {
        "id": "13"
      },
      "outputs": [],
      "source": [
        "!nbstripout HW2.ipynb"
      ]
    },
    {
      "cell_type": "code",
      "execution_count": null,
      "id": "14",
      "metadata": {
        "id": "14"
      },
      "outputs": [],
      "source": [
        "from google.colab import drive\n",
        "drive.mount('/content/drive')"
      ]
    }
  ],
  "metadata": {
    "accelerator": "GPU",
    "colab": {
      "gpuType": "T4",
      "provenance": []
    },
    "kernelspec": {
      "display_name": "Python 3",
      "name": "python3"
    },
    "language_info": {
      "codemirror_mode": {
        "name": "ipython",
        "version": 3
      },
      "file_extension": ".py",
      "mimetype": "text/x-python",
      "name": "python",
      "nbconvert_exporter": "python",
      "pygments_lexer": "ipython3",
      "version": "3.8.13"
    }
  },
  "nbformat": 4,
  "nbformat_minor": 5
}